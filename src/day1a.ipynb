{
 "cells": [
  {
   "cell_type": "code",
   "execution_count": 2,
   "id": "5ec41f23-4486-4078-9b35-bf7c85fe1d2e",
   "metadata": {},
   "outputs": [],
   "source": [
    "# Day 1 A"
   ]
  },
  {
   "cell_type": "code",
   "execution_count": 17,
   "id": "8d410a97-76ab-4c59-855f-056a7b106df0",
   "metadata": {
    "editable": true,
    "scrolled": true,
    "slideshow": {
     "slide_type": ""
    },
    "tags": []
   },
   "outputs": [
    {
     "name": "stdout",
     "output_type": "stream",
     "text": [
      "numrows -  1000\n",
      "distance =  2031679\n"
     ]
    }
   ],
   "source": [
    "import csv\n",
    "\n",
    "# initialise\n",
    "bothlist = []\n",
    "leftlist = []\n",
    "rightlist = []\n",
    "numrows = 0\n",
    "distance = 0\n",
    "\n",
    "# read in file\n",
    "with open(\"1-day-1/input.txt\") as inputfile:\n",
    "    for daline in inputfile:\n",
    "        line = ''.join(daline.split('\\n'))\n",
    "        x = line.split('   ')\n",
    "        bothlist.append(x)\n",
    "        leftlist.append(x[0])\n",
    "        rightlist.append(x[1])\n",
    "\n",
    "# count rows and sort lists\n",
    "numrows = len(leftlist)\n",
    "print('numrows - ',numrows)\n",
    "leftlist.sort()\n",
    "rightlist.sort()\n",
    "\n",
    "# iterate over lists and calculate distance and add value\n",
    "for row in range(numrows):\n",
    "    leftnum = int(leftlist[row])\n",
    "    rightnum = int(rightlist[row])\n",
    "    distance += abs(leftnum - rightnum)\n",
    "    \n",
    "# answer\n",
    "print('distance = ',distance)\n",
    "# distance =  2031679 correct!"
   ]
  },
  {
   "cell_type": "code",
   "execution_count": null,
   "id": "0d775193-5853-41af-bb6d-dcc00516b6e9",
   "metadata": {},
   "outputs": [],
   "source": []
  }
 ],
 "metadata": {
  "kernelspec": {
   "display_name": "Python 3 (ipykernel)",
   "language": "python",
   "name": "python3"
  },
  "language_info": {
   "codemirror_mode": {
    "name": "ipython",
    "version": 3
   },
   "file_extension": ".py",
   "mimetype": "text/x-python",
   "name": "python",
   "nbconvert_exporter": "python",
   "pygments_lexer": "ipython3",
   "version": "3.12.7"
  }
 },
 "nbformat": 4,
 "nbformat_minor": 5
}
